{
 "cells": [
  {
   "cell_type": "markdown",
   "id": "d00f8ca3-04db-4399-bc88-7541c1433e83",
   "metadata": {},
   "source": [
    "## Q1. What are the characteristics of the tuples? Is tuple immutable?"
   ]
  },
  {
   "cell_type": "markdown",
   "id": "b99311e0-5c3a-42c1-a37d-f180475856f5",
   "metadata": {},
   "source": [
    "Tuples are ordered, immutable, and indexable collections of elements of any type. Yes, tuples are immutable, meaning their elements cannot be changed once they are created."
   ]
  },
  {
   "cell_type": "markdown",
   "id": "63993f37-8f5d-4aeb-911c-ace98d71413e",
   "metadata": {},
   "source": [
    "## Q2. What are the two tuple methods in python? Give an example of each method. Give a reason why tuples have only two in-built methods as compared to Lists."
   ]
  },
  {
   "cell_type": "markdown",
   "id": "48bc7e2e-3e17-40de-80c3-d5b2e0fecec2",
   "metadata": {},
   "source": [
    "The two in-built methods of tuples in Python are:\n",
    "\n",
    "1. count(element) - This method returns the number of times a specified element appears in the tuple.\n",
    "    Example:"
   ]
  },
  {
   "cell_type": "code",
   "execution_count": 1,
   "id": "cfc2f8df-b741-44d6-85f1-2026613ed49a",
   "metadata": {},
   "outputs": [
    {
     "name": "stdout",
     "output_type": "stream",
     "text": [
      "3\n"
     ]
    }
   ],
   "source": [
    "numbers = (1, 2, 3, 2, 4, 2)\n",
    "print(numbers.count(2))"
   ]
  },
  {
   "cell_type": "markdown",
   "id": "ca4ac9be-ded3-4d31-90f4-9e0c7d0eeb28",
   "metadata": {},
   "source": [
    "2. index(element) - This method returns the index of the first occurrence of the specified element in the tuple.\n",
    "    Example:"
   ]
  },
  {
   "cell_type": "code",
   "execution_count": 2,
   "id": "a9543df8-c51c-4fc1-8da5-860704730180",
   "metadata": {},
   "outputs": [
    {
     "name": "stdout",
     "output_type": "stream",
     "text": [
      "1\n"
     ]
    }
   ],
   "source": [
    "numbers = (1, 2, 3, 2, 4, 2)\n",
    "print(numbers.index(2))"
   ]
  },
  {
   "cell_type": "markdown",
   "id": "6e7bbc8d-3161-4623-b1a7-de177f77cfcb",
   "metadata": {},
   "source": [
    "Tuples have only two in-built methods as compared to Lists because tuples are meant to be used for small, fixed data structures, where performance is more important than flexibility. Adding more methods would increase the memory footprint of tuples, making them less efficient."
   ]
  },
  {
   "cell_type": "markdown",
   "id": "78ad49ed-5f94-4158-8957-f418c1553ec6",
   "metadata": {},
   "source": [
    "## Q3. Which collection datatypes in python do not allow duplicate items? Write a code using a set to remove duplicates from the given list."
   ]
  },
  {
   "cell_type": "markdown",
   "id": "44a538e8-b588-4c03-97e9-1e40573fe668",
   "metadata": {},
   "source": [
    "Sets in Python do not allow duplicate items.\n",
    "Here's an example of how you can use a set to remove duplicates from a list:"
   ]
  },
  {
   "cell_type": "code",
   "execution_count": 5,
   "id": "d38d70c8-3b51-4337-a191-cdac4a50f04c",
   "metadata": {},
   "outputs": [
    {
     "name": "stdout",
     "output_type": "stream",
     "text": [
      "[1, 2, 3, 4]\n"
     ]
    }
   ],
   "source": [
    "List = [1, 1, 1, 2, 1, 3, 1, 4, 2, 1, 2, 2, 2, 3, 2, 4, 3, 1, 3, 2, 3, 3, 3, 4, 4, 1, 4, 2, 4, 3, 4, 4]\n",
    "\n",
    "no_duplicates = set(List)\n",
    "\n",
    "unique_list = list(no_duplicates)\n",
    "\n",
    "print(unique_list)"
   ]
  },
  {
   "cell_type": "markdown",
   "id": "dc345285-fee1-47c7-a314-0b1c2c1066f5",
   "metadata": {},
   "source": [
    "Tuples have a limited number of in-built methods as compared to lists because they are immutable and their elements cannot be modified after creation. Hence, only a few methods are required to manipulate tuples."
   ]
  },
  {
   "cell_type": "markdown",
   "id": "d2a36029-663c-4d3f-9041-bf2ab4449fba",
   "metadata": {},
   "source": [
    "## Q4. Explain the difference between the union() and update() methods for a set. Give an example of each method."
   ]
  },
  {
   "cell_type": "markdown",
   "id": "58ecb1d1-f3e6-4892-a195-237550e583af",
   "metadata": {},
   "source": [
    "The union() method returns the union of two sets, that is, the set containing all elements from both sets, but without duplicates.\n",
    "\n",
    "The update() method adds all elements of another set to the current set, without creating a new set. This method modifies the original set, and does not return anything.\n",
    "\n",
    "Here's an example of both methods:"
   ]
  },
  {
   "cell_type": "code",
   "execution_count": 6,
   "id": "3d37d17e-a4a2-4699-8dc5-7de4b3e09288",
   "metadata": {},
   "outputs": [
    {
     "name": "stdout",
     "output_type": "stream",
     "text": [
      "{1, 2, 3, 4, 5, 6}\n",
      "{1, 2, 3, 4, 5, 6}\n"
     ]
    },
    {
     "data": {
      "text/plain": [
       "{1, 2, 3, 4, 5, 6}"
      ]
     },
     "execution_count": 6,
     "metadata": {},
     "output_type": "execute_result"
    }
   ],
   "source": [
    "set1 = {1, 2, 3, 4}\n",
    "set2 = {3, 4, 5, 6}\n",
    "\n",
    "union = set1.union(set2)\n",
    "print(union)\n",
    "{1, 2, 3, 4, 5, 6}\n",
    "\n",
    "set1.update(set2)\n",
    "print(set1)\n",
    "{1, 2, 3, 4, 5, 6}"
   ]
  },
  {
   "cell_type": "markdown",
   "id": "d1ad934f-b124-4213-a9c6-ee5dbffcb89a",
   "metadata": {},
   "source": [
    "Tuples only have two built-in methods because sets are meant to store unique items and perform set operations, such as union, intersection, and difference. The two built-in methods are enough to perform these operations and check for set membership."
   ]
  },
  {
   "cell_type": "markdown",
   "id": "2889ac43-79f0-4597-9090-ebef73bd75de",
   "metadata": {},
   "source": [
    "## Q5. What is a dictionary? Give an example. Also, state whether a dictionary is ordered or unordered."
   ]
  },
  {
   "cell_type": "markdown",
   "id": "17b8c083-7530-4eee-8780-7e60054676ba",
   "metadata": {},
   "source": [
    "A dictionary is a collection of key-value pairs in Python. It is an unordered collection data type, meaning that the elements are stored in no particular order. Each key-value pair is separated by a colon (:), and the key-value pairs are enclosed in curly braces {}.\n",
    "\n",
    "Example:"
   ]
  },
  {
   "cell_type": "code",
   "execution_count": 7,
   "id": "1547e33e-ebbf-441c-bf61-68c2b13e5531",
   "metadata": {},
   "outputs": [],
   "source": [
    "person = {\"name\": \"John Doe\", \"age\": 32, \"city\": \"New York\"}"
   ]
  },
  {
   "cell_type": "markdown",
   "id": "152175d1-b158-4a71-9b06-20539ca0e3bd",
   "metadata": {},
   "source": [
    "In this example, the keys are \"name\", \"age\", and \"city\", and the values are \"John Doe\", 32, and \"New York\", respectively.\n",
    "\n",
    "A dictionary is unordered, meaning that the elements are stored in no particular order and they do not retain their order. The order in which you add items to a dictionary may not be the order in which they are stored."
   ]
  },
  {
   "cell_type": "markdown",
   "id": "fe3cbb67-4198-4e7b-aa07-8b51c7e52ad9",
   "metadata": {},
   "source": [
    "## Q6. Can we create a nested dictionary? If so, please give an example by creating a simple one-level nested dictionary."
   ]
  },
  {
   "cell_type": "markdown",
   "id": "4a831f57-b8d4-4612-bd51-0615934e7d1f",
   "metadata": {},
   "source": [
    "Yes, we can create a nested dictionary in Python. A nested dictionary is a dictionary within a dictionary, where the values of the inner dictionary can be any valid data type including another dictionary.\n",
    "\n",
    "Example of a simple one-level nested dictionary:"
   ]
  },
  {
   "cell_type": "code",
   "execution_count": 9,
   "id": "32799df3-5111-480a-b2b5-f0bba839cfb9",
   "metadata": {},
   "outputs": [
    {
     "data": {
      "text/plain": [
       "{'name': 'John',\n",
       " 'age': 30,\n",
       " 'details': {'address': '123 Main St', 'phone': '555-555-1212'}}"
      ]
     },
     "execution_count": 9,
     "metadata": {},
     "output_type": "execute_result"
    }
   ],
   "source": [
    "person = {\n",
    "\"name\": \"John\",\n",
    "\"age\": 30,\n",
    "\"details\": {\n",
    "\"address\": \"123 Main St\",\n",
    "\"phone\": \"555-555-1212\"\n",
    "}\n",
    "}\n",
    "person"
   ]
  },
  {
   "cell_type": "markdown",
   "id": "7f4dc3e8-8a18-4b32-bc85-b5c167a997cd",
   "metadata": {},
   "source": [
    "In this example, the \"details\" key in the dictionary \"person\" holds another dictionary as its value."
   ]
  },
  {
   "cell_type": "markdown",
   "id": "41169c3c-6028-4d46-a672-0082939d99ea",
   "metadata": {},
   "source": [
    "## Q7. Using setdefault() method, create key named topics in the given dictionary and also add the value of the key as this list ['Python', 'Machine Learning', 'Deep Learning']\n",
    "\n",
    "## dict1 = {'language': 'Python', 'course': 'Data Science Masters'}"
   ]
  },
  {
   "cell_type": "code",
   "execution_count": 10,
   "id": "da0585aa-be29-47e1-8217-d446bc798001",
   "metadata": {},
   "outputs": [
    {
     "name": "stdout",
     "output_type": "stream",
     "text": [
      "{'language': 'Python', 'course': 'Data Science Masters', 'topics': ['Python', 'Machine Learning', 'Deep Learning']}\n"
     ]
    }
   ],
   "source": [
    "dict1 = {'language': 'Python', 'course': 'Data Science Masters'}\n",
    "dict1.setdefault('topics', []).extend(['Python', 'Machine Learning', 'Deep Learning'])\n",
    "print(dict1)"
   ]
  },
  {
   "cell_type": "markdown",
   "id": "a42e1857-bc63-4287-b064-28689484f19f",
   "metadata": {},
   "source": [
    "## Q8. What are the three view objects in dictionaries? Use the three in-built methods in python to display these three view objects for the given dictionary.\n",
    "\n",
    "## dict1 = {'Sport': 'Cricket', 'Teams': ['India', 'Australia', 'England', 'South Africa', 'Sri Lanka', 'New Zealand']}"
   ]
  },
  {
   "cell_type": "code",
   "execution_count": 11,
   "id": "fd455b04-ac7b-46c3-a496-fe78262f814a",
   "metadata": {},
   "outputs": [
    {
     "name": "stdout",
     "output_type": "stream",
     "text": [
      "Keys:  dict_keys(['Sport', 'Teams'])\n",
      "Values:  dict_values(['Cricket', ['India', 'Australia', 'England', 'South Africa', 'Sri Lanka', 'New Zealand']])\n",
      "Items:  dict_items([('Sport', 'Cricket'), ('Teams', ['India', 'Australia', 'England', 'South Africa', 'Sri Lanka', 'New Zealand'])])\n"
     ]
    }
   ],
   "source": [
    "dict1 = {'Sport': 'Cricket', 'Teams': ['India', 'Australia', 'England', 'South Africa', 'Sri Lanka', 'New Zealand']}\n",
    "\n",
    "print(\"Keys: \", dict1.keys())\n",
    "print(\"Values: \", dict1.values())\n",
    "print(\"Items: \", dict1.items())"
   ]
  }
 ],
 "metadata": {
  "kernelspec": {
   "display_name": "Python 3 (ipykernel)",
   "language": "python",
   "name": "python3"
  },
  "language_info": {
   "codemirror_mode": {
    "name": "ipython",
    "version": 3
   },
   "file_extension": ".py",
   "mimetype": "text/x-python",
   "name": "python",
   "nbconvert_exporter": "python",
   "pygments_lexer": "ipython3",
   "version": "3.10.8"
  }
 },
 "nbformat": 4,
 "nbformat_minor": 5
}
