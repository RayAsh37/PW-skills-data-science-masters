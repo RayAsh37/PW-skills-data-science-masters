{
 "cells": [
  {
   "cell_type": "markdown",
   "id": "e69775c4-f553-434e-8ee5-3edf7126f5ce",
   "metadata": {},
   "source": [
    "## Q1. Which keyword is used to create a function? Create a function to return a list of odd numbers in the range of 1 to 25."
   ]
  },
  {
   "cell_type": "markdown",
   "id": "d33c59d3-c9ca-42e1-934b-99c4b92fb631",
   "metadata": {},
   "source": [
    "The keyword used to create a function in Python is \"def\". Here's a function that returns a list of odd numbers in the range of 1 to 25:"
   ]
  },
  {
   "cell_type": "code",
   "execution_count": 1,
   "id": "c4ddfd1d-9328-4f75-82f4-74bdb61ca20c",
   "metadata": {},
   "outputs": [
    {
     "name": "stdout",
     "output_type": "stream",
     "text": [
      "[1, 3, 5, 7, 9, 11, 13, 15, 17, 19, 21, 23, 25]\n"
     ]
    }
   ],
   "source": [
    "def get_odd_numbers():\n",
    "    odd_numbers = []\n",
    "    for i in range(1, 26):\n",
    "        if i % 2 != 0:\n",
    "            odd_numbers.append(i)\n",
    "    return odd_numbers\n",
    "\n",
    "print(get_odd_numbers())"
   ]
  },
  {
   "cell_type": "markdown",
   "id": "c1bc01b9-8cb3-4a93-ae3f-b94b54ffaf87",
   "metadata": {},
   "source": [
    "## Q2. Why *args and **kwargs is used in some functions? Create a function each for *args and **kwargs to demonstrate their use."
   ]
  },
  {
   "cell_type": "markdown",
   "id": "e0f2eb2f-1800-4745-af89-b058872d07a4",
   "metadata": {},
   "source": [
    "*args and **kwargs are used to pass a variable number of arguments to a function. *args is used to pass a variable number of non-keyword arguments, while **kwargs is used to pass a variable number of keyword arguments.\n",
    "\n",
    "Here's a function that uses *args to take a variable number of non-keyword arguments:"
   ]
  },
  {
   "cell_type": "code",
   "execution_count": 2,
   "id": "d190328b-7396-4d0d-a0dc-f6eef05b6dd0",
   "metadata": {},
   "outputs": [
    {
     "name": "stdout",
     "output_type": "stream",
     "text": [
      "args: (1, 2, 3, 4)\n"
     ]
    }
   ],
   "source": [
    "def print_args(*args):\n",
    "    print(\"args:\", args)\n",
    "\n",
    "print_args(1, 2, 3, 4)"
   ]
  },
  {
   "cell_type": "markdown",
   "id": "a8be139f-0256-4653-a95c-b88851ebe383",
   "metadata": {},
   "source": [
    "Here's a function that uses **kwargs to take a variable number of keyword arguments:"
   ]
  },
  {
   "cell_type": "code",
   "execution_count": 3,
   "id": "046d190c-932c-44d6-befb-2ef956773535",
   "metadata": {},
   "outputs": [
    {
     "name": "stdout",
     "output_type": "stream",
     "text": [
      "kwargs: {'a': 1, 'b': 2, 'c': 3}\n"
     ]
    }
   ],
   "source": [
    "def print_kwargs(**kwargs):\n",
    "    print(\"kwargs:\", kwargs)\n",
    "\n",
    "print_kwargs(a=1, b=2, c=3)"
   ]
  },
  {
   "cell_type": "markdown",
   "id": "7165a213-6b82-4fa8-90a2-92affea03d9c",
   "metadata": {},
   "source": [
    "## Q3. What is an iterator in python? Name the method used to initialise the iterator object and the method used for iteration. Use these methods to print the first five elements of the given list [2, 4, 6, 8, 10, 12, 14, 16, 18, 20]."
   ]
  },
  {
   "cell_type": "markdown",
   "id": "23875610-34dd-46f7-93df-d19b7adf6efb",
   "metadata": {},
   "source": [
    "An iterator in Python is an object that implements the iter protocol, meaning it has two methods, __iter__ and __next__, and an iterator produces a sequence of values. The __iter__ method returns the iterator object and the __next__ method returns the next value in the sequence each time it is called. If there are no more values to return, the __next__ method raises the StopIteration exception.\n",
    "\n",
    "Here's an example that demonstrates how to use the iter method to initialize the iterator object and the next method to iterate through the elements of a list:"
   ]
  },
  {
   "cell_type": "code",
   "execution_count": 4,
   "id": "fa61a72d-28e4-4f73-9f18-19dc81fa6454",
   "metadata": {},
   "outputs": [
    {
     "name": "stdout",
     "output_type": "stream",
     "text": [
      "2\n",
      "4\n",
      "6\n",
      "8\n",
      "10\n"
     ]
    }
   ],
   "source": [
    "my_list = [2, 4, 6, 8, 10, 12, 14, 16, 18, 20]\n",
    "my_iter = iter(my_list)\n",
    "\n",
    "for i in range(5):\n",
    "    print(next(my_iter))"
   ]
  },
  {
   "cell_type": "markdown",
   "id": "7bfed87e-79f7-42bc-9a6d-e448d6bd2863",
   "metadata": {},
   "source": [
    "## Q4. What is a generator function in python? Why yield keyword is used? Give an example of a generator function."
   ]
  },
  {
   "cell_type": "markdown",
   "id": "5a5d3bfb-c92e-4019-93d7-ea0a5e451268",
   "metadata": {},
   "source": [
    "A generator function in Python is a function that uses the yield keyword to return a generator object, which is an iterator that produces a sequence of values. The difference between a generator function and a regular function is that a generator function yields values one at a time, instead of returning all of the values at once.\n",
    "\n",
    "The yield keyword is used to return a value from the generator function and pause the function's execution. The function resumes from where it left off the next time next() is called on the generator object. This allows the generator function to generate an potentially infinite sequence of values, one at a time, instead of computing all of the values and returning them in a list.\n",
    "\n",
    "Here's an example of a generator function that generates the first n Fibonacci numbers:"
   ]
  },
  {
   "cell_type": "code",
   "execution_count": 5,
   "id": "990d9bd7-a999-4aad-9bfe-d3c8bf9d5669",
   "metadata": {},
   "outputs": [
    {
     "name": "stdout",
     "output_type": "stream",
     "text": [
      "0\n",
      "1\n",
      "1\n",
      "2\n",
      "3\n"
     ]
    }
   ],
   "source": [
    "def fibonacci(n):\n",
    "    a, b = 0, 1\n",
    "    for i in range(n):\n",
    "        yield a\n",
    "        a, b = b, a + b\n",
    "\n",
    "fib = fibonacci(5)\n",
    "for i in fib:\n",
    "    print(i)"
   ]
  },
  {
   "cell_type": "markdown",
   "id": "e9da8321-73c6-438d-9410-5cebc3d8973b",
   "metadata": {},
   "source": [
    "## Q5. Create a generator function for prime numbers less than 1000. Use the next() method to print the first 20 prime numbers."
   ]
  },
  {
   "cell_type": "code",
   "execution_count": 6,
   "id": "65dc65fc-72c0-4952-9671-defdaf31d3df",
   "metadata": {},
   "outputs": [
    {
     "name": "stdout",
     "output_type": "stream",
     "text": [
      "2\n",
      "3\n",
      "5\n",
      "7\n",
      "11\n",
      "13\n",
      "17\n",
      "19\n",
      "23\n",
      "29\n",
      "31\n",
      "37\n",
      "41\n",
      "43\n",
      "47\n",
      "53\n",
      "59\n",
      "61\n",
      "67\n",
      "71\n"
     ]
    }
   ],
   "source": [
    "def primes():\n",
    "    yield 2\n",
    "    primes = [2]\n",
    "    num = 3\n",
    "    while num < 1000:\n",
    "        is_prime = True\n",
    "        for prime in primes:\n",
    "            if prime > num**0.5:\n",
    "                break\n",
    "            if num % prime == 0:\n",
    "                is_prime = False\n",
    "                break\n",
    "        if is_prime:\n",
    "            primes.append(num)\n",
    "            yield num\n",
    "        num += 2\n",
    "\n",
    "prime_gen = primes()\n",
    "for i in range(20):\n",
    "    print(next(prime_gen))"
   ]
  }
 ],
 "metadata": {
  "kernelspec": {
   "display_name": "Python 3 (ipykernel)",
   "language": "python",
   "name": "python3"
  },
  "language_info": {
   "codemirror_mode": {
    "name": "ipython",
    "version": 3
   },
   "file_extension": ".py",
   "mimetype": "text/x-python",
   "name": "python",
   "nbconvert_exporter": "python",
   "pygments_lexer": "ipython3",
   "version": "3.10.8"
  }
 },
 "nbformat": 4,
 "nbformat_minor": 5
}
