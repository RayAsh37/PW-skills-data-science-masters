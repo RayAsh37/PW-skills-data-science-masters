{
 "cells": [
  {
   "attachments": {},
   "cell_type": "markdown",
   "metadata": {},
   "source": [
    "### 1. Who developed Python Programming Language?\n",
    "Guido van Rossum\n",
    "\n",
    "### 2. Which type of Programming does Python support?\n",
    "Object oriented programming\n",
    "\n",
    "### 3. Is Python case sensitive when dealing with identifiers?\n",
    "yes\n",
    "\n",
    "### 4. What is the correct extension of the Python file?\n",
    ".py\n",
    "\n",
    "### 5. Is Python code compiled or interpreted?\n",
    "interpreted\n",
    "\n",
    "### 6. Name a few blocks of code used to define in Python language?"
   ]
  },
  {
   "cell_type": "code",
   "execution_count": 1,
   "metadata": {},
   "outputs": [
    {
     "name": "stdout",
     "output_type": "stream",
     "text": [
      "0\n",
      "1\n",
      "2\n",
      "3\n"
     ]
    }
   ],
   "source": [
    "list=[0, 1, 2, 3]\n",
    "for i in list:\n",
    "    print(i)"
   ]
  },
  {
   "attachments": {},
   "cell_type": "markdown",
   "metadata": {},
   "source": [
    "\n",
    "### 7. State a character used to give single-line comments in Python?"
   ]
  },
  {
   "cell_type": "code",
   "execution_count": 2,
   "metadata": {},
   "outputs": [],
   "source": [
    "#"
   ]
  },
  {
   "attachments": {},
   "cell_type": "markdown",
   "metadata": {},
   "source": [
    "\n",
    "### 8. Mention functions which can help us to find the version of python that we are currently working on?"
   ]
  },
  {
   "cell_type": "code",
   "execution_count": 3,
   "metadata": {},
   "outputs": [
    {
     "data": {
      "text/plain": [
       "'3.11.1 (tags/v3.11.1:a7a450f, Dec  6 2022, 19:58:39) [MSC v.1934 64 bit (AMD64)]'"
      ]
     },
     "execution_count": 3,
     "metadata": {},
     "output_type": "execute_result"
    }
   ],
   "source": [
    "sys.version"
   ]
  },
  {
   "attachments": {},
   "cell_type": "markdown",
   "metadata": {},
   "source": [
    "\n",
    "\n",
    "### 9. Python supports the creation of anonymous functions at runtime, using a construct called\n",
    "lambda\n",
    "\n",
    "------\n",
    "\n",
    "### 12. What is the maximum possible length of an identifier in Python?\n",
    "255\n",
    "\n",
    "### 13. What are the benefits of using Python?\n",
    "easy to read code, lots of libraries, open source, lots of OSS projects to work on\n",
    "\n",
    "### 14. How is memory managed in Python?\n",
    "Memory in Python is managed by the Python Memory Manager. The Memory Manager has different components including the Python heap, which holds all Python objects and data structures, and the Python memory manager, which manages the memory allocation of these objects to the heap. The Python garbage collector periodically frees unused memory, which is dynamically allocated to objects as needed by the Python application.\n",
    "\n",
    "### 15. How to install Python on Windows and set path variables?\n",
    "download the windows installer for python and tick the \"set path\" option\n",
    "\n",
    "### 16. Is indentation required in python?\n",
    "yes"
   ]
  }
 ],
 "metadata": {
  "kernelspec": {
   "display_name": "Python 3",
   "language": "python",
   "name": "python3"
  },
  "language_info": {
   "codemirror_mode": {
    "name": "ipython",
    "version": 3
   },
   "file_extension": ".py",
   "mimetype": "text/x-python",
   "name": "python",
   "nbconvert_exporter": "python",
   "pygments_lexer": "ipython3",
   "version": "3.11.1"
  },
  "orig_nbformat": 4,
  "vscode": {
   "interpreter": {
    "hash": "4444babe80fd275e99bfab79b3d32754b3cc23302586b9d3966e1dbb7319e1e9"
   }
  }
 },
 "nbformat": 4,
 "nbformat_minor": 2
}
