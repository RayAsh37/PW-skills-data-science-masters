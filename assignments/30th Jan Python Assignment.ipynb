{
 "cells": [
  {
   "cell_type": "markdown",
   "id": "ee90c9e9-cac0-4ef9-a49c-11516f866c3c",
   "metadata": {},
   "source": [
    "## Write a program to accept percentages from the user and display the grade according to the following criteria"
   ]
  },
  {
   "cell_type": "code",
   "execution_count": 1,
   "id": "ec8f8f31-aead-46a5-a276-24b1fac9a6b9",
   "metadata": {},
   "outputs": [
    {
     "name": "stdin",
     "output_type": "stream",
     "text": [
      "Enter percentage:  65\n"
     ]
    },
    {
     "name": "stdout",
     "output_type": "stream",
     "text": [
      "Grade:  C\n"
     ]
    }
   ],
   "source": [
    "def get_grade(percentage):\n",
    "    if percentage > 90:\n",
    "        return \"A\"\n",
    "    elif percentage > 80 and percentage <= 90:\n",
    "        return \"B\"\n",
    "    elif percentage >= 60 and percentage <= 80:\n",
    "        return \"C\"\n",
    "    elif percentage < 60:\n",
    "        return \"D\"\n",
    "\n",
    "percentage = float(input(\"Enter percentage: \"))\n",
    "grade = get_grade(percentage)\n",
    "print(\"Grade: \", grade)"
   ]
  },
  {
   "cell_type": "markdown",
   "id": "235254f5-4660-4cbe-a42d-0e8a97cab5da",
   "metadata": {},
   "source": [
    "## write a program to accept the cost price of a bike and display the road tax to be paid according to the following criteria"
   ]
  },
  {
   "cell_type": "code",
   "execution_count": 2,
   "id": "06120536-2d5d-4b54-bb9d-339ec937f8ec",
   "metadata": {},
   "outputs": [
    {
     "name": "stdin",
     "output_type": "stream",
     "text": [
      "Enter the cost price of the bike:  55000\n"
     ]
    },
    {
     "name": "stdout",
     "output_type": "stream",
     "text": [
      "The road tax to be paid is:  5500.0\n"
     ]
    }
   ],
   "source": [
    "cost_price = float(input(\"Enter the cost price of the bike: \"))\n",
    "\n",
    "if cost_price > 100000:\n",
    "    road_tax = 0.15 * cost_price\n",
    "elif cost_price > 50000:\n",
    "    road_tax = 0.1 * cost_price\n",
    "else:\n",
    "    road_tax = 0.05 * cost_price\n",
    "\n",
    "print(\"The road tax to be paid is: \", road_tax)"
   ]
  },
  {
   "cell_type": "markdown",
   "id": "eefef2c1-91e6-45fb-a012-9bf4b72bdca7",
   "metadata": {},
   "source": [
    "## Accept any city from the user and display monuments of that city."
   ]
  },
  {
   "cell_type": "code",
   "execution_count": 3,
   "id": "6d548786-cf31-4cc4-a06c-f0a6e17e9fc5",
   "metadata": {},
   "outputs": [
    {
     "name": "stdin",
     "output_type": "stream",
     "text": [
      "Please enter city name:  Delhi\n"
     ]
    },
    {
     "name": "stdout",
     "output_type": "stream",
     "text": [
      "Red Fort\n"
     ]
    }
   ],
   "source": [
    "city = input(\"Please enter city name: \")\n",
    "\n",
    "if city==\"Delhi\":\n",
    "  print(\"Red Fort\")\n",
    "elif city==\"Agra\":\n",
    "  print(\"Taj Mahal\")\n",
    "elif city==\"Jaipur\":\n",
    "  print(\"Jal Maha\")"
   ]
  },
  {
   "cell_type": "markdown",
   "id": "51e0836f-3203-4395-b924-efc538c78837",
   "metadata": {},
   "source": [
    "## Check how many times a given number can be divided by 3 before it is less than or equal to 10."
   ]
  },
  {
   "cell_type": "code",
   "execution_count": 4,
   "id": "02327d66-8408-46b6-860e-8e589ee7abdb",
   "metadata": {},
   "outputs": [
    {
     "name": "stdin",
     "output_type": "stream",
     "text": [
      "Enter the number:  69\n"
     ]
    },
    {
     "name": "stdout",
     "output_type": "stream",
     "text": [
      "2\n"
     ]
    }
   ],
   "source": [
    "n = int(input(\"Enter the number: \"))\n",
    "\n",
    "i = 0\n",
    "\n",
    "while n > 10:\n",
    "  n /= 3\n",
    "  i += 1\n",
    "\n",
    "print(i)"
   ]
  },
  {
   "cell_type": "markdown",
   "id": "938f8a78-e687-4bbe-acc7-1c788208df6b",
   "metadata": {},
   "source": [
    "## why and when to use while loop in python. Give a detailed description with example."
   ]
  },
  {
   "cell_type": "markdown",
   "id": "9628e379-31db-44fa-b84f-cd344e8e067e",
   "metadata": {},
   "source": [
    "A while loop in Python is a control flow statement that allows code to be executed multiple times. The while loop will continue to run as long as the given condition is true. In other words, it keeps looping until the condition is met.\n",
    "\n",
    "An example of a while loop in Python is when you want to count from 1 to 10:"
   ]
  },
  {
   "cell_type": "code",
   "execution_count": 5,
   "id": "aaf27f84-af7e-4b58-9fe9-f6e0a783d21f",
   "metadata": {},
   "outputs": [
    {
     "name": "stdout",
     "output_type": "stream",
     "text": [
      "1\n",
      "2\n",
      "3\n",
      "4\n",
      "5\n",
      "6\n",
      "7\n",
      "8\n",
      "9\n",
      "10\n"
     ]
    }
   ],
   "source": [
    "# Count from 1 to 10\n",
    "\n",
    "i = 1\n",
    "\n",
    "while i <= 10:\n",
    "    print(i)\n",
    "    i = i + 1"
   ]
  },
  {
   "cell_type": "markdown",
   "id": "e6cb5cdf-ecb6-4153-8b32-cda1ad569771",
   "metadata": {},
   "source": [
    "This will print out the numbers 1 through 10. The statement i <= 10 is the condition that is checked each time the loop runs. As long as the condition is true (i is less than or equal to 10), the code inside the loop is executed. Once the condition is false (i is greater than 10), the loop is exited and the program continues to run the code after the while loop."
   ]
  },
  {
   "cell_type": "markdown",
   "id": "9121b02d-13a7-4e7a-84c4-0835e27a22e2",
   "metadata": {},
   "source": [
    "## Use nested while loop to print 3 different pattern."
   ]
  },
  {
   "cell_type": "code",
   "execution_count": 6,
   "id": "b7e05ecf-21c5-4c85-9529-776ba82a7bb7",
   "metadata": {},
   "outputs": [
    {
     "name": "stdout",
     "output_type": "stream",
     "text": [
      "*****\n",
      "*****\n",
      "*****\n",
      "*****\n",
      "*****\n"
     ]
    }
   ],
   "source": [
    "# Pattern 1\n",
    "row = 1\n",
    "while row <= 5:\n",
    "    col = 1\n",
    "    while col <= 5:\n",
    "        print(\"*\", end=\"\")\n",
    "        col += 1\n",
    "    row += 1\n",
    "    print()"
   ]
  },
  {
   "cell_type": "code",
   "execution_count": 7,
   "id": "ea6c44c1-34e5-4b72-8782-0aa7d137f9f4",
   "metadata": {},
   "outputs": [
    {
     "name": "stdout",
     "output_type": "stream",
     "text": [
      "1\n",
      "12\n",
      "123\n",
      "1234\n",
      "12345\n"
     ]
    }
   ],
   "source": [
    "# Pattern 2\n",
    "row = 1\n",
    "while row <= 5:\n",
    "    col = 1\n",
    "    while col <= row:\n",
    "        print(col, end=\"\")\n",
    "        col += 1\n",
    "    row += 1\n",
    "    print()"
   ]
  },
  {
   "cell_type": "code",
   "execution_count": 9,
   "id": "3323f7ee-cd64-4349-af6c-0f11a2fc9ca6",
   "metadata": {},
   "outputs": [
    {
     "name": "stdout",
     "output_type": "stream",
     "text": [
      "*****\n",
      "****\n",
      "***\n",
      "**\n",
      "*\n"
     ]
    }
   ],
   "source": [
    "# Pattern 3\n",
    "row = 5\n",
    "while row >= 1:\n",
    "    col = 1\n",
    "    while col <= row:\n",
    "        print(\"*\", end=\"\")\n",
    "        col += 1\n",
    "    row -= 1\n",
    "    print()"
   ]
  },
  {
   "cell_type": "markdown",
   "id": "48964c32-7636-4b59-bcb5-9ccfe8526d02",
   "metadata": {},
   "source": [
    "## Reverse a while loop to display numbers from 10 to 1."
   ]
  },
  {
   "cell_type": "code",
   "execution_count": 10,
   "id": "68995d49-8e51-4cf2-8e8e-666ca0078390",
   "metadata": {},
   "outputs": [
    {
     "name": "stdout",
     "output_type": "stream",
     "text": [
      "10\n",
      "9\n",
      "8\n",
      "7\n",
      "6\n",
      "5\n",
      "4\n",
      "3\n",
      "2\n",
      "1\n"
     ]
    }
   ],
   "source": [
    "num = 10\n",
    "\n",
    "while num > 0:\n",
    "    print(num)\n",
    "    num -= 1"
   ]
  },
  {
   "cell_type": "markdown",
   "id": "4c65ebfd-5e27-4d9f-bef2-98321a068ddc",
   "metadata": {},
   "source": [
    "## Reverse a for loop to display numbers from 10 to 1."
   ]
  },
  {
   "cell_type": "code",
   "execution_count": 11,
   "id": "afae27f5-c703-4f0e-ad98-72d3fb660ed7",
   "metadata": {},
   "outputs": [
    {
     "name": "stdout",
     "output_type": "stream",
     "text": [
      "10\n",
      "9\n",
      "8\n",
      "7\n",
      "6\n",
      "5\n",
      "4\n",
      "3\n",
      "2\n",
      "1\n"
     ]
    }
   ],
   "source": [
    "for i in range(10, 0, -1):\n",
    "    print(i)"
   ]
  },
  {
   "cell_type": "code",
   "execution_count": null,
   "id": "23d67e01-6a55-4238-a35e-df14ad53b855",
   "metadata": {},
   "outputs": [],
   "source": []
  }
 ],
 "metadata": {
  "kernelspec": {
   "display_name": "Python 3 (ipykernel)",
   "language": "python",
   "name": "python3"
  },
  "language_info": {
   "codemirror_mode": {
    "name": "ipython",
    "version": 3
   },
   "file_extension": ".py",
   "mimetype": "text/x-python",
   "name": "python",
   "nbconvert_exporter": "python",
   "pygments_lexer": "ipython3",
   "version": "3.10.8"
  }
 },
 "nbformat": 4,
 "nbformat_minor": 5
}
